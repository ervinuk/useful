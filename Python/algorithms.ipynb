{
 "cells": [
  {
   "cell_type": "code",
   "execution_count": null,
   "metadata": {},
   "outputs": [],
   "source": [
    "# binary search\n",
    "\n",
    "def firstBadVersion(self, n: int) -> int:\n",
    "    low = 0\n",
    "    high = n\n",
    "\n",
    "    while low <= high:\n",
    "        mid = (low + high) // 2\n",
    "        guess1 = isBadVersion(mid)\n",
    "        guess2 = isBadVersion(mid+1)\n",
    "        \n",
    "        if guess1 == False and guess2 == True:\n",
    "            return mid+1\n",
    "        if guess2 == False:\n",
    "            low = mid + 1\n",
    "        else:\n",
    "            high = mid - 1"
   ]
  }
 ],
 "metadata": {
  "language_info": {
   "name": "python"
  },
  "orig_nbformat": 4
 },
 "nbformat": 4,
 "nbformat_minor": 2
}
