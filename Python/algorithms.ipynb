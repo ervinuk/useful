{
 "cells": [
  {
   "cell_type": "code",
   "execution_count": 1,
   "metadata": {},
   "outputs": [
    {
     "ename": "NameError",
     "evalue": "name 'nums' is not defined",
     "output_type": "error",
     "traceback": [
      "\u001b[0;31m---------------------------------------------------------------------------\u001b[0m",
      "\u001b[0;31mNameError\u001b[0m                                 Traceback (most recent call last)",
      "\u001b[1;32m/Users/e/useful/Python/algorithms.ipynb Cell 1\u001b[0m in \u001b[0;36m<cell line: 25>\u001b[0;34m()\u001b[0m\n\u001b[1;32m     <a href='vscode-notebook-cell:/Users/e/useful/Python/algorithms.ipynb#ch0000000?line=34'>35</a>\u001b[0m         low \u001b[39m=\u001b[39m mid \u001b[39m+\u001b[39m\u001b[39m1\u001b[39m\n\u001b[1;32m     <a href='vscode-notebook-cell:/Users/e/useful/Python/algorithms.ipynb#ch0000000?line=35'>36</a>\u001b[0m \u001b[39m#===============================\u001b[39;00m\n\u001b[1;32m     <a href='vscode-notebook-cell:/Users/e/useful/Python/algorithms.ipynb#ch0000000?line=36'>37</a>\u001b[0m \u001b[39m#LIST SLICING\u001b[39;00m\n\u001b[1;32m     <a href='vscode-notebook-cell:/Users/e/useful/Python/algorithms.ipynb#ch0000000?line=37'>38</a>\u001b[0m \u001b[39m#Given an array, rotate the array to the right by k steps, where k is non-negative.\u001b[39;00m\n\u001b[1;32m     <a href='vscode-notebook-cell:/Users/e/useful/Python/algorithms.ipynb#ch0000000?line=38'>39</a>\u001b[0m \u001b[39m#vedno je bilo treba od vzad zacet?\u001b[39;00m\n\u001b[0;32m---> <a href='vscode-notebook-cell:/Users/e/useful/Python/algorithms.ipynb#ch0000000?line=39'>40</a>\u001b[0m         dolzina \u001b[39m=\u001b[39m \u001b[39mlen\u001b[39m(nums)\n\u001b[1;32m     <a href='vscode-notebook-cell:/Users/e/useful/Python/algorithms.ipynb#ch0000000?line=41'>42</a>\u001b[0m         prestavitev \u001b[39m=\u001b[39m \u001b[39mint\u001b[39m(k\u001b[39m/\u001b[39m dolzina)\n\u001b[1;32m     <a href='vscode-notebook-cell:/Users/e/useful/Python/algorithms.ipynb#ch0000000?line=42'>43</a>\u001b[0m         zasuk_seznama \u001b[39m=\u001b[39m k \u001b[39m-\u001b[39m (prestavitev \u001b[39m*\u001b[39m dolzina)\n",
      "\u001b[0;31mNameError\u001b[0m: name 'nums' is not defined"
     ]
    }
   ],
   "source": [
    "# binary search\n",
    "\n",
    "def firstBadVersion(self, n: int) -> int:\n",
    "    low = 0\n",
    "    high = n\n",
    "\n",
    "    while low <= high:\n",
    "        mid = (low + high) // 2\n",
    "        guess1 = isBadVersion(mid)\n",
    "        guess2 = isBadVersion(mid+1)\n",
    "        \n",
    "        if guess1 == False and guess2 == True:\n",
    "            return mid+1\n",
    "        if guess2 == False:\n",
    "            low = mid + 1\n",
    "        else:\n",
    "            high = mid - 1\n",
    "#_____________________________\n",
    "iscemo = 4562\n",
    "list = [*range(100000)]\n",
    "\n",
    "low = 0\n",
    "high = len(list) - 1\n",
    "\n",
    "while low <= high:\n",
    "    mid = (low + high) // 2\n",
    "\n",
    "    guess = list[mid]\n",
    "    \n",
    "    if guess == iscemo:\n",
    "        print(guess, mid)\n",
    "    if guess > iscemo:\n",
    "        high = mid - 1\n",
    "    else:\n",
    "        low = mid +1\n",
    "#===============================\n",
    "#LIST SLICING\n",
    "#Given an array, rotate the array to the right by k steps, where k is non-negative.\n",
    "#vedno je bilo treba od vzad zacet?\n",
    "        dolzina = len(nums)\n",
    "        \n",
    "        prestavitev = int(k/ dolzina)\n",
    "        zasuk_seznama = k - (prestavitev * dolzina)\n",
    "        \n",
    "        nums[:] = nums[-zasuk_seznama:] + nums[:-zasuk_seznama]"
   ]
  },
  {
   "cell_type": "code",
   "execution_count": null,
   "metadata": {},
   "outputs": [],
   "source": [
    "def maxSubArray(nums):\n",
    "    minimum = 0\n",
    "    maximum = nums[0]\n",
    "    \n",
    "    for i in range(len(nums)):\n",
    "        minimum = max(nums[i], minimum + nums[i])\n",
    "        maximum = max(minimum, maximum)\n",
    "    \n",
    "    return maximum"
   ]
  }
 ],
 "metadata": {
  "kernelspec": {
   "display_name": "Python 3.10.4 64-bit",
   "language": "python",
   "name": "python3"
  },
  "language_info": {
   "codemirror_mode": {
    "name": "ipython",
    "version": 3
   },
   "file_extension": ".py",
   "mimetype": "text/x-python",
   "name": "python",
   "nbconvert_exporter": "python",
   "pygments_lexer": "ipython3",
   "version": "3.10.5"
  },
  "orig_nbformat": 4,
  "vscode": {
   "interpreter": {
    "hash": "8f9328efe3468e6c370cdfed98702d3986faf748314d5bcec59da615d65baa7a"
   }
  }
 },
 "nbformat": 4,
 "nbformat_minor": 2
}
