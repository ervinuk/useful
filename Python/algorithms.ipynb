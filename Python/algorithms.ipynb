{
 "cells": [
  {
   "cell_type": "code",
   "execution_count": null,
   "metadata": {},
   "outputs": [],
   "source": [
    "# binary search\n",
    "\n",
    "def firstBadVersion(self, n: int) -> int:\n",
    "    low = 0\n",
    "    high = n\n",
    "\n",
    "    while low <= high:\n",
    "        mid = (low + high) // 2\n",
    "        guess1 = isBadVersion(mid)\n",
    "        guess2 = isBadVersion(mid+1)\n",
    "        \n",
    "        if guess1 == False and guess2 == True:\n",
    "            return mid+1\n",
    "        if guess2 == False:\n",
    "            low = mid + 1\n",
    "        else:\n",
    "            high = mid - 1\n",
    "#_____________________________\n",
    "iscemo = 4562\n",
    "list = [*range(100000)]\n",
    "\n",
    "low = 0\n",
    "high = len(list) - 1\n",
    "\n",
    "while low <= high:\n",
    "    mid = (low + high) // 2\n",
    "\n",
    "    guess = list[mid]\n",
    "    \n",
    "    if guess == iscemo:\n",
    "        print(guess, mid)\n",
    "    if guess > iscemo:\n",
    "        high = mid - 1\n",
    "    else:\n",
    "        low = mid +1\n",
    "#===============================\n",
    "#LIST SLICING\n",
    "#Given an array, rotate the array to the right by k steps, where k is non-negative.\n",
    "#vedno je bilo treba od vzad zacet?\n",
    "        dolzina = len(nums)\n",
    "        \n",
    "        prestavitev = int(k/ dolzina)\n",
    "        zasuk_seznama = k - (prestavitev * dolzina)\n",
    "        \n",
    "        nums[:] = nums[-zasuk_seznama:] + nums[:-zasuk_seznama]"
   ]
  }
 ],
 "metadata": {
  "kernelspec": {
   "display_name": "Python 3.10.4 64-bit",
   "language": "python",
   "name": "python3"
  },
  "language_info": {
   "name": "python",
   "version": "3.10.4"
  },
  "orig_nbformat": 4,
  "vscode": {
   "interpreter": {
    "hash": "8f9328efe3468e6c370cdfed98702d3986faf748314d5bcec59da615d65baa7a"
   }
  }
 },
 "nbformat": 4,
 "nbformat_minor": 2
}
